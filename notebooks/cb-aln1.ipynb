{
 "cells": [
  {
   "cell_type": "markdown",
   "id": "0ed87543",
   "metadata": {},
   "source": [
    "# Dynamic programming for sequence alignment\n",
    "\n",
    "This notebook implements dynamic programming for sequence alignment, both local and global version (Needleman-Wunsch and Smith-Waterman algorithms). It also outputs several optimal solutions, if there are multiple, but stops at a predetermined threshold.\n",
    "\n",
    "To use the notebook, set input sequences and other parameters in the cell below, then run all cells. Found alignments are printed in section [Found alignments](#found-alignments). "
   ]
  },
  {
   "cell_type": "markdown",
   "id": "5cb039ac",
   "metadata": {},
   "source": [
    "## Input and settings\n",
    "\n",
    "In the cell below you can change the input for the algorithm. Make sure that two sequences are enclosed in qoutes, such as `X=\"ACGT\"`. Typically, the match score should be positive and gap and mismatch scores should be negative."
   ]
  },
  {
   "cell_type": "code",
   "execution_count": 3,
   "id": "3b4eab55",
   "metadata": {},
   "outputs": [],
   "source": [
    "# X and Y are the two sequences to be aligned\n",
    "# they may contain only characters A, C, G, and T\n",
    "X = \"CATGTCGTA\"\n",
    "Y = \"CAGTCCTAGA\"\n",
    "# below are scores for match, mismatch, and gap\n",
    "score_match = 1\n",
    "score_mismatch = -1\n",
    "score_gap = -1\n",
    "# whether to perform local or global alignment (value True or False)\n",
    "local_alignment = True\n",
    "# how many optimal alignments to print at most\n",
    "maximum_printed_alignments = 10\n",
    "\n",
    "# here we check that the inputs are valid\n",
    "import re\n",
    "assert re.match(\"^[ACGT]*$\", X), \"Invalid characters found in sequence X\"\n",
    "assert re.match(\"^[ACGT]*$\", Y), \"Invalid characters found in sequence Y\"\n",
    "assert isinstance(score_match, int), \"score_match must be an integer\"\n",
    "assert isinstance(score_mismatch, int), \"score_mismatch must be an integer\"\n",
    "assert isinstance(score_gap, int), \"score_gap must be an integer\"\n",
    "assert isinstance(local_alignment, bool), \"local_alignment must be True or False\"\n",
    "assert isinstance(maximum_printed_alignments, int) and maximum_printed_alignments > 0, \\\n",
    "    \"maximum_printed_alignments must be a positive integer\""
   ]
  },
  {
   "cell_type": "markdown",
   "id": "6b768a1d",
   "metadata": {},
   "source": [
    "## Computing tables A and B"
   ]
  },
  {
   "cell_type": "markdown",
   "id": "b7cb6672",
   "metadata": {},
   "source": [
    "Here is the program for computing the main dynamic programming table $A$ with scores and table $B$ with back tracing arrows. Since we want to print multiple solutions, we keep all optimal arrows. Therefore table $B$ has 4 boolean values in each cell, saying if this can be start of the optimal alignment, if the alignment can continue diagonally, up and left. "
   ]
  },
  {
   "cell_type": "code",
   "execution_count": 4,
   "id": "535b6550",
   "metadata": {},
   "outputs": [],
   "source": [
    "# we will use numpy arrays for storing the dynamic programming tables\n",
    "import numpy as np\n",
    "\n",
    "# lengths of the two input sequences\n",
    "n = len(X)\n",
    "m = len(Y)\n",
    "\n",
    "# create numpy arrays A and B of size n+1 x m+1\n",
    "# A is filled with zeros\n",
    "# B has 4 boolean values in each cell, all filled with False\n",
    "A = np.zeros((n+1, m+1))\n",
    "B = np.zeros((n+1, m+1, 4), dtype=bool)\n",
    "\n",
    "# initialize the first row and column of A and B\n",
    "B[0][0][0] = True  # alignment can start in upper left corner\n",
    "for i in range(1, n+1):\n",
    "    if not local_alignment:\n",
    "        # for global alignment, initialize first column with gap penalties and up arrows\n",
    "        A[i][0] = i * score_gap\n",
    "        B[i][0][2] = True    \n",
    "    else:\n",
    "        B[i][0][0] = True  # local alignment can start anywhere\n",
    "\n",
    "for j in range(1, m+1):\n",
    "    if not local_alignment:\n",
    "        # for global alignment, initialize first row with gap penalties and left arrows\n",
    "        A[0][j] = j * score_gap\n",
    "        B[0][j][3] = True\n",
    "    else:\n",
    "        B[0][j][0] = True  # local alignment can start anywhere\n",
    "\n",
    "# the main dynamic programming loop\n",
    "for i in range(1, n+1):\n",
    "    for j in range(1, m+1):\n",
    "        # compute score for aligning X[i-1] with Y[j-1]\n",
    "        # (note that X and Y are 0-based, while A and B are 1-based)      \n",
    "        if X[i-1] == Y[j-1]:\n",
    "            aligned_score = score_match\n",
    "        else:\n",
    "            aligned_score = score_mismatch\n",
    "\n",
    "        # for local alignment, we can also start a new alignment here with score 0\n",
    "        if local_alignment:\n",
    "            start_score = 0\n",
    "        else:\n",
    "            # for global alignment, starting a new alignment here is not possible\n",
    "            # so we set this option to -infinity\n",
    "            start_score = -np.inf\n",
    "\n",
    "        # compute the 4 options for the last column of alignment and take the maximum\n",
    "        options = np.array([start_score, \n",
    "                            A[i-1][j-1]+aligned_score, \n",
    "                            A[i-1][j]+score_gap, \n",
    "                            A[i][j-1]+score_gap])\n",
    "        A[i][j] = max(options)\n",
    "        # set the arrows in B for all options that achieve the maximum\n",
    "        B[i][j] = (options == A[i][j])\n"
   ]
  },
  {
   "cell_type": "markdown",
   "id": "9c9489fe",
   "metadata": {},
   "source": [
    "## Tracing back alignments"
   ]
  },
  {
   "cell_type": "markdown",
   "id": "50efa000",
   "metadata": {},
   "source": [
    "Below is the code for finding and printing alignments according to arrows in matrix $B$. Note even if we have only one alignment, the code works in quadratic time. Computer scientists, do you see why and could you improve this so that a single alignment is printed in linear time?"
   ]
  },
  {
   "cell_type": "code",
   "execution_count": 5,
   "id": "82dc2c47",
   "metadata": {},
   "outputs": [],
   "source": [
    "def find_ends(A, local_alignment):\n",
    "    \"\"\"Find the positions of the ends of optimal alignments in matrix A.\n",
    "    For local alignment, return all positions with the maximum score.\n",
    "    For global alignment, return only the bottom-right position.\"\"\"\n",
    "    if local_alignment:\n",
    "        max_val = np.max(A)\n",
    "        positions = np.argwhere(A == max_val)\n",
    "        return positions\n",
    "    else:\n",
    "        return [(A.shape[0]-1, A.shape[1]-1)]\n",
    "\n",
    "def alignment_extend(current_alignment, char_x, char_y):\n",
    "    \"\"\"Add characters char_x and char_y as a new first column to the current alignment.\"\"\"\n",
    "    return [char_x + current_alignment[0], \n",
    "            char_y + current_alignment[1],\n",
    "            current_alignment[2]]\n",
    "\n",
    "def backtrace(B, pos, local_alignment, X, Y, current_alignment, alignments, max_alignments):\n",
    "    \"\"\"Recursively backtrace in matrix B from position pos.\n",
    "    current_alignment is the end of the alignment built so far.\n",
    "    alignments is the list of all found alignments.\n",
    "    max_alignments is the maximum number of alignments to find.\"\"\"\n",
    "\n",
    "    # if we have found enough alignments, stop\n",
    "    if len(alignments) >= max_alignments:\n",
    "        return\n",
    "\n",
    "    # look at the arrows in B at position pos\n",
    "    i, j = pos\n",
    "    directions = B[i][j]\n",
    "\n",
    "    if directions[0]: \n",
    "        # alignment can start here, so we add the current alignment to the list\n",
    "        alignments.append(current_alignment + [pos])\n",
    "       \n",
    "    if directions[1]:\n",
    "        # alignment continues with a match/mismatch (diagonally)\n",
    "        # we call backtrace recursively from the diagonal position\n",
    "        backtrace(B, (i-1, j-1), local_alignment, X, Y, \n",
    "                  alignment_extend(current_alignment, X[i-1], Y[j-1]), \n",
    "                  alignments, max_alignments)\n",
    "        \n",
    "    if directions[2]:  # similarly for arrow up\n",
    "        backtrace(B, (i-1, j), local_alignment, X, Y, \n",
    "                  alignment_extend(current_alignment, X[i-1], \"-\"), \n",
    "                  alignments, max_alignments)\n",
    "        \n",
    "    if directions[3]:  # similarly for arrow left\n",
    "        backtrace(B, (i, j-1), local_alignment, X, Y, \n",
    "                  alignment_extend(current_alignment, \"-\", Y[j-1]), \n",
    "                  alignments, max_alignments)\n",
    "\n",
    "def print_alignments(alignments, A):\n",
    "    \"\"\"Print the found alignments along with their scores and positions.\n",
    "    Each alignment is a list of 4 elements:\n",
    "    - aligned sequence X\n",
    "    - aligned sequence Y\n",
    "    - position (i,j) in matrix A where the alignment ends\n",
    "    - position (i,j) in matrix A where the alignment starts\"\"\"\n",
    "    for (idx, aln) in enumerate(alignments):\n",
    "        print(f\"Alignment {idx+1}, total score:\", A[aln[2][0]][aln[2][1]])\n",
    "        print(f\"{aln[0]} Positions {aln[3][0]+1} to {aln[2][0]} out of {n}\")\n",
    "        print(f\"{aln[1]} Positions {aln[3][1]+1} to {aln[2][1]} out of {m}\")\n",
    "        print()"
   ]
  },
  {
   "cell_type": "code",
   "execution_count": 6,
   "id": "fa2fd34a",
   "metadata": {},
   "outputs": [],
   "source": [
    "# find all ends of optimal alignments\n",
    "ends = find_ends(A, local_alignment)\n",
    "# use recursive backtrace to find all optimal alignments (or up to the specified maximum)\n",
    "alignments = []\n",
    "for end in ends:\n",
    "    backtrace(B, end, local_alignment, X, Y, [\"\",\"\", end], \n",
    "              alignments, maximum_printed_alignments)"
   ]
  },
  {
   "cell_type": "markdown",
   "id": "d247406b",
   "metadata": {},
   "source": [
    "## Found alignments\n",
    "\n",
    "Below we print input parameters and found alignments."
   ]
  },
  {
   "cell_type": "code",
   "execution_count": 7,
   "id": "85849f93",
   "metadata": {},
   "outputs": [
    {
     "name": "stdout",
     "output_type": "stream",
     "text": [
      "X: CATGTCGTA\n",
      "Y: CAGTCCTAGA\n",
      "Local alignment: True\n",
      "Maximum number of printed alignments: 10\n",
      "Scores: match = 1 mismatch = -1 gap = -1\n",
      "\n",
      "Alignment 1, total score: 5.0\n",
      "CATGTCGTA Positions 1 to 9 out of 9\n",
      "CA-GTCCTA Positions 1 to 8 out of 10\n",
      "\n"
     ]
    }
   ],
   "source": [
    "print(\"X:\", X)\n",
    "print(\"Y:\", Y)\n",
    "print(\"Local alignment:\", local_alignment)\n",
    "print(\"Maximum number of printed alignments:\", maximum_printed_alignments)\n",
    "print(\"Scores: match =\", score_match, \"mismatch =\", score_mismatch, \"gap =\", score_gap)\n",
    "print()\n",
    "\n",
    "print_alignments(alignments, A)"
   ]
  },
  {
   "cell_type": "markdown",
   "id": "657a7a63",
   "metadata": {},
   "source": [
    "## Matrix A\n",
    "\n",
    "Below we print full matrix $A$."
   ]
  },
  {
   "cell_type": "code",
   "execution_count": 8,
   "id": "08b98e21",
   "metadata": {},
   "outputs": [
    {
     "name": "stdout",
     "output_type": "stream",
     "text": [
      "Table A:\n",
      "[[0. 0. 0. 0. 0. 0. 0. 0. 0. 0. 0.]\n",
      " [0. 1. 0. 0. 0. 1. 1. 0. 0. 0. 0.]\n",
      " [0. 0. 2. 1. 0. 0. 0. 0. 1. 0. 1.]\n",
      " [0. 0. 1. 1. 2. 1. 0. 1. 0. 0. 0.]\n",
      " [0. 0. 0. 2. 1. 1. 0. 0. 0. 1. 0.]\n",
      " [0. 0. 0. 1. 3. 2. 1. 1. 0. 0. 0.]\n",
      " [0. 1. 0. 0. 2. 4. 3. 2. 1. 0. 0.]\n",
      " [0. 0. 0. 1. 1. 3. 3. 2. 1. 2. 1.]\n",
      " [0. 0. 0. 0. 2. 2. 2. 4. 3. 2. 1.]\n",
      " [0. 0. 1. 0. 1. 1. 1. 3. 5. 4. 3.]]\n"
     ]
    }
   ],
   "source": [
    "print(\"Table A:\")\n",
    "print(A)"
   ]
  }
 ],
 "metadata": {
  "kernelspec": {
   "display_name": "venv",
   "language": "python",
   "name": "python3"
  },
  "language_info": {
   "codemirror_mode": {
    "name": "ipython",
    "version": 3
   },
   "file_extension": ".py",
   "mimetype": "text/x-python",
   "name": "python",
   "nbconvert_exporter": "python",
   "pygments_lexer": "ipython3",
   "version": "3.10.12"
  }
 },
 "nbformat": 4,
 "nbformat_minor": 5
}
