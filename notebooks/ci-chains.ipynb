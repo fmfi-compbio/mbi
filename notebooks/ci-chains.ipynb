{
 "cells": [
  {
   "cell_type": "markdown",
   "metadata": {},
   "source": [
    "## Imports and function definitions"
   ]
  },
  {
   "cell_type": "code",
   "execution_count": 2,
   "metadata": {},
   "outputs": [],
   "source": [
    "import numpy as np\n"
   ]
  },
  {
   "cell_type": "code",
   "execution_count": 3,
   "metadata": {},
   "outputs": [],
   "source": [
    "def get_Markov_chain_matrix(p_one, exp_len_one):\n",
    "    \"\"\"Create a transition probability matrix for a Markov chain with two states,\n",
    "    and equilibrium probbaility of state 1 being p_one,\n",
    "    and expected length of staying in state 1 being exp_len_one\"\"\"\n",
    "    exp_len_zero = exp_len_one / p_one * (1 - p_one)\n",
    "    assert exp_len_one >= 1 and exp_len_zero >= 1 \n",
    "    p_switch_one = 1 / exp_len_one\n",
    "    p_switch_zero = 1 / exp_len_zero\n",
    "    P = np.array([[1-p_switch_zero, p_switch_zero], [p_switch_one, 1-p_switch_one]])\n",
    "    return P\n",
    "\n",
    "def get_stationary(P):\n",
    "    \"\"\"Compute the stationary distribution of a Markov chain with two states.\"\"\"\n",
    "    p_one = P[0,1] / (P[0,1] + P[1,0])\n",
    "    return np.array([1-p_one, p_one])\n",
    "\n"
   ]
  },
  {
   "cell_type": "code",
   "execution_count": 4,
   "metadata": {},
   "outputs": [],
   "source": [
    "def generate_independent_samples(p_one, n):\n",
    "    return np.random.binomial(1, p_one, n)\n",
    "\n",
    "def generate_markov_chain_samples(P, n):\n",
    "    pi = get_stationary(P)\n",
    "    first_state = np.random.choice([0, 1], p=pi)\n",
    "    states = [first_state]\n",
    "    for _ in range(n - 1):\n",
    "        current_state = states[-1]\n",
    "        next_state = np.random.choice([0, 1], p=P[current_state])\n",
    "        states.append(next_state)\n",
    "    return np.array(states)"
   ]
  },
  {
   "cell_type": "code",
   "execution_count": 5,
   "metadata": {},
   "outputs": [],
   "source": [
    "def compute_lengths(X, which_value):\n",
    "    \"\"\"Finds continuous regions with value which_value in list X and computes their lengths\"\"\"\n",
    "    lengths = []\n",
    "    current_length = 0\n",
    "    for value in X:\n",
    "        if value == which_value:\n",
    "            current_length += 1\n",
    "        else:\n",
    "            if current_length > 0:\n",
    "                lengths.append(current_length)\n",
    "            current_length = 0\n",
    "    if current_length > 0:\n",
    "        lengths.append(current_length)\n",
    "    return lengths"
   ]
  },
  {
   "cell_type": "markdown",
   "metadata": {},
   "source": [
    "## Create three Markov chains"
   ]
  },
  {
   "cell_type": "code",
   "execution_count": 6,
   "metadata": {},
   "outputs": [
    {
     "data": {
      "text/plain": [
       "[array([[0.76666667, 0.23333333],\n",
       "        [0.1       , 0.9       ]]),\n",
       " array([[0.06666667, 0.93333333],\n",
       "        [0.4       , 0.6       ]]),\n",
       " array([[0.3, 0.7],\n",
       "        [0.3, 0.7]])]"
      ]
     },
     "metadata": {},
     "output_type": "display_data"
    }
   ],
   "source": [
    "# create an example Markov chain\n",
    "p_one = 0.7  # probability of one\n",
    "matrices = [get_Markov_chain_matrix(p_one, 10), \n",
    "     get_Markov_chain_matrix(p_one, 2.5), \n",
    "     get_Markov_chain_matrix(p_one, 10/3)]\n",
    "display(matrices)\n"
   ]
  },
  {
   "cell_type": "markdown",
   "metadata": {},
   "source": [
    "## Create samples from Markov chain and also idependent trials"
   ]
  },
  {
   "cell_type": "code",
   "execution_count": 7,
   "metadata": {},
   "outputs": [],
   "source": [
    "n = 20000    # number of samples to generate\n",
    "X_indep = generate_independent_samples(p_one, n)\n",
    "X_markov = [ generate_markov_chain_samples(M, n) for M in matrices]\n"
   ]
  },
  {
   "cell_type": "code",
   "execution_count": 8,
   "metadata": {},
   "outputs": [
    {
     "name": "stdout",
     "output_type": "stream",
     "text": [
      "First 200 elements in the independendent and Markov sequences:\n",
      "[1 1 1 1 1 1 1 1 1 1 1 1 0 1 1 1 0 0 0 1 1 1 1 1 0 1 1 0 0 1 1 1 1 1 1 1 1\n",
      " 1 1 1 1 1 1 1 1 1 1 1 1 1 1 1 1 1 1 1 1 0 1 0 0 1 1 1 1 1 1 0 1 0 1 0 0 1\n",
      " 1 0 1 0 1 1 1 1 0 1 1 1 1 1 1 1 1 0 1 1 1 1 0 0 1 1 1 1 1 1 1 1 1 0 1 0 1\n",
      " 1 1 0 0 1 1 1 0 1 0 1 1 1 0 1 0 0 1 0 1 1 1 1 1 1 1 1 0 1 0 1 1 1 0 1 0 1\n",
      " 1 1 1 0 1 1 1 1 1 1 1 1 1 1 1 0 0 1 1 1 0 0 0 1 0 1 1 1 1 1 1 0 0 1 0 1 1\n",
      " 1 1 1 0 0 1 0 1 0 1 0 0 1 0 0]\n",
      "[1 1 1 1 1 0 1 0 0 0 0 0 0 0 0 1 1 1 1 1 1 1 1 1 1 1 1 1 1 1 1 1 1 1 1 1 1\n",
      " 1 1 1 1 1 1 1 1 1 1 1 1 1 1 1 1 1 0 0 0 0 0 0 0 1 1 1 0 0 0 0 0 0 0 1 1 1\n",
      " 1 1 1 1 0 1 1 1 1 1 1 1 1 1 1 1 1 1 1 1 1 1 1 0 0 0 1 1 1 1 1 1 0 0 0 0 0\n",
      " 1 1 1 1 0 0 0 1 1 1 1 1 1 1 1 1 1 0 1 1 1 0 0 0 0 0 0 0 0 0 0 0 0 0 0 1 1\n",
      " 1 1 1 1 1 1 1 0 0 0 1 1 1 1 1 1 1 1 1 1 1 1 1 1 1 1 1 1 1 1 1 0 0 1 1 1 1\n",
      " 1 1 1 1 1 1 1 1 1 0 1 1 1 1 1]\n",
      "[1 1 0 1 0 1 0 1 0 1 1 0 1 1 0 1 0 1 1 1 1 1 0 1 1 1 1 0 1 1 0 1 1 1 1 1 0\n",
      " 1 1 0 1 1 1 0 1 1 1 1 1 0 1 1 1 0 1 0 1 1 0 1 1 1 0 1 0 1 0 0 1 1 0 1 1 0\n",
      " 0 1 1 0 1 1 0 1 1 1 1 1 0 0 1 1 1 1 0 1 0 1 0 0 1 1 1 0 1 1 1 1 1 1 0 0 1\n",
      " 0 1 1 0 1 1 0 1 0 1 1 1 1 0 1 1 1 0 1 0 1 0 1 1 1 0 1 1 0 1 0 1 0 1 0 1 1\n",
      " 1 0 0 1 1 1 0 0 0 1 0 1 0 1 0 1 1 0 1 1 1 1 0 1 1 0 1 1 0 1 1 0 1 1 0 1 0\n",
      " 1 1 1 1 0 1 1 0 1 0 1 1 1 0 1]\n",
      "[1 1 1 1 1 1 1 1 0 1 1 1 0 1 1 0 0 1 1 1 1 1 1 1 1 1 1 1 1 1 0 1 1 1 0 0 0\n",
      " 1 0 0 1 1 0 0 1 0 0 0 1 0 1 0 1 1 1 0 0 1 1 0 1 1 1 1 1 1 0 1 1 1 0 0 1 0\n",
      " 0 1 1 1 1 0 0 0 1 0 1 0 0 0 0 1 1 1 1 0 1 1 1 1 1 0 1 0 1 0 1 1 1 1 0 0 1\n",
      " 0 1 1 1 0 1 0 1 1 1 1 0 1 0 1 1 1 1 1 0 1 1 1 0 1 1 1 0 1 1 1 0 1 1 1 1 1\n",
      " 1 1 0 1 0 1 1 1 1 1 1 0 0 1 0 0 1 1 1 1 0 1 1 1 0 1 0 0 1 1 0 0 1 0 0 0 1\n",
      " 1 1 1 1 1 0 1 1 1 1 0 1 1 1 1]\n"
     ]
    }
   ],
   "source": [
    "m = 200     # number of samples to print\n",
    "print(f\"First {m} elements in the independendent and Markov sequences:\")\n",
    "print(X_indep[:m])\n",
    "for X in X_markov:\n",
    "    print(X[:m])\n"
   ]
  },
  {
   "cell_type": "code",
   "execution_count": 9,
   "metadata": {},
   "outputs": [
    {
     "name": "stdout",
     "output_type": "stream",
     "text": [
      "Fraction of 1s in the independent and Markov sequences:\n",
      "0.6982499999999313\n",
      "0.7088999999999301\n",
      "0.6991999999999312\n",
      "0.6965499999999315\n"
     ]
    }
   ],
   "source": [
    "print(\"Fraction of 1s in the independent and Markov sequences:\")\n",
    "print(sum(X_indep / n))\n",
    "for X in X_markov:\n",
    "    print(sum(X / n))"
   ]
  },
  {
   "cell_type": "code",
   "execution_count": 10,
   "metadata": {},
   "outputs": [
    {
     "name": "stdout",
     "output_type": "stream",
     "text": [
      "Mean length of a region of 0s in the independent and Markov sequences:\n",
      "1.424356856266226\n",
      "4.197548666186013\n",
      "1.072561954002496\n",
      "1.4344126683999054\n",
      "Mean length of a region of 1s in the independent and Markov sequences:\n",
      "3.295964125560538\n",
      "10.214697406340058\n",
      "2.492691622103387\n",
      "3.2926022216969986\n"
     ]
    }
   ],
   "source": [
    "for which in [0, 1]:\n",
    "    print(f\"Mean length of a region of {which}s in the independent and Markov sequences:\")\n",
    "    l_indep = compute_lengths(X_indep, which)\n",
    "    print(np.mean(l_indep))\n",
    "    for X in X_markov:\n",
    "        l_markov = compute_lengths(X, which)\n",
    "        print(np.mean(l_markov))"
   ]
  },
  {
   "cell_type": "markdown",
   "metadata": {},
   "source": [
    "## Stationary distribution"
   ]
  },
  {
   "cell_type": "code",
   "execution_count": 11,
   "metadata": {},
   "outputs": [
    {
     "data": {
      "text/plain": [
       "'P^0:'"
      ]
     },
     "metadata": {},
     "output_type": "display_data"
    },
    {
     "data": {
      "text/plain": [
       "array([[1., 0.],\n",
       "       [0., 1.]])"
      ]
     },
     "metadata": {},
     "output_type": "display_data"
    },
    {
     "data": {
      "text/plain": [
       "'P^1:'"
      ]
     },
     "metadata": {},
     "output_type": "display_data"
    },
    {
     "data": {
      "text/plain": [
       "array([[0.76666667, 0.23333333],\n",
       "       [0.1       , 0.9       ]])"
      ]
     },
     "metadata": {},
     "output_type": "display_data"
    },
    {
     "data": {
      "text/plain": [
       "'P^2:'"
      ]
     },
     "metadata": {},
     "output_type": "display_data"
    },
    {
     "data": {
      "text/plain": [
       "array([[0.61111111, 0.38888889],\n",
       "       [0.16666667, 0.83333333]])"
      ]
     },
     "metadata": {},
     "output_type": "display_data"
    },
    {
     "data": {
      "text/plain": [
       "'P^3:'"
      ]
     },
     "metadata": {},
     "output_type": "display_data"
    },
    {
     "data": {
      "text/plain": [
       "array([[0.50740741, 0.49259259],\n",
       "       [0.21111111, 0.78888889]])"
      ]
     },
     "metadata": {},
     "output_type": "display_data"
    },
    {
     "data": {
      "text/plain": [
       "'P^10:'"
      ]
     },
     "metadata": {},
     "output_type": "display_data"
    },
    {
     "data": {
      "text/plain": [
       "array([[0.31213907, 0.68786093],\n",
       "       [0.29479754, 0.70520246]])"
      ]
     },
     "metadata": {},
     "output_type": "display_data"
    },
    {
     "data": {
      "text/plain": [
       "'P^30:'"
      ]
     },
     "metadata": {},
     "output_type": "display_data"
    },
    {
     "data": {
      "text/plain": [
       "array([[0.30000365, 0.69999635],\n",
       "       [0.29999844, 0.70000156]])"
      ]
     },
     "metadata": {},
     "output_type": "display_data"
    }
   ],
   "source": [
    "# Compute powers of the matrix P\n",
    "for k in [0,1,2,3,10,30]:\n",
    "    power = np.linalg.matrix_power(matrices[0], k)\n",
    "    display(f\"P^{k}:\")\n",
    "    display(power)"
   ]
  },
  {
   "cell_type": "markdown",
   "metadata": {},
   "source": [
    "## A simple discrete substitution matrix"
   ]
  },
  {
   "cell_type": "code",
   "execution_count": 14,
   "metadata": {},
   "outputs": [
    {
     "data": {
      "text/plain": [
       "array([[0.97, 0.01, 0.01, 0.01],\n",
       "       [0.01, 0.97, 0.01, 0.01],\n",
       "       [0.01, 0.01, 0.97, 0.01],\n",
       "       [0.01, 0.01, 0.01, 0.97]])"
      ]
     },
     "metadata": {},
     "output_type": "display_data"
    }
   ],
   "source": [
    "S1 = 0.96 * np.identity(4) + np.full((4, 4), 0.01)\n",
    "display(S1)"
   ]
  },
  {
   "cell_type": "code",
   "execution_count": 15,
   "metadata": {},
   "outputs": [
    {
     "data": {
      "text/plain": [
       "'S(0):'"
      ]
     },
     "metadata": {},
     "output_type": "display_data"
    },
    {
     "data": {
      "text/plain": [
       "array([[1., 0., 0., 0.],\n",
       "       [0., 1., 0., 0.],\n",
       "       [0., 0., 1., 0.],\n",
       "       [0., 0., 0., 1.]])"
      ]
     },
     "metadata": {},
     "output_type": "display_data"
    },
    {
     "data": {
      "text/plain": [
       "'S(1):'"
      ]
     },
     "metadata": {},
     "output_type": "display_data"
    },
    {
     "data": {
      "text/plain": [
       "array([[0.97, 0.01, 0.01, 0.01],\n",
       "       [0.01, 0.97, 0.01, 0.01],\n",
       "       [0.01, 0.01, 0.97, 0.01],\n",
       "       [0.01, 0.01, 0.01, 0.97]])"
      ]
     },
     "metadata": {},
     "output_type": "display_data"
    },
    {
     "data": {
      "text/plain": [
       "'S(2):'"
      ]
     },
     "metadata": {},
     "output_type": "display_data"
    },
    {
     "data": {
      "text/plain": [
       "array([[0.9412, 0.0196, 0.0196, 0.0196],\n",
       "       [0.0196, 0.9412, 0.0196, 0.0196],\n",
       "       [0.0196, 0.0196, 0.9412, 0.0196],\n",
       "       [0.0196, 0.0196, 0.0196, 0.9412]])"
      ]
     },
     "metadata": {},
     "output_type": "display_data"
    },
    {
     "data": {
      "text/plain": [
       "'S(3):'"
      ]
     },
     "metadata": {},
     "output_type": "display_data"
    },
    {
     "data": {
      "text/plain": [
       "array([[0.913552, 0.028816, 0.028816, 0.028816],\n",
       "       [0.028816, 0.913552, 0.028816, 0.028816],\n",
       "       [0.028816, 0.028816, 0.913552, 0.028816],\n",
       "       [0.028816, 0.028816, 0.028816, 0.913552]])"
      ]
     },
     "metadata": {},
     "output_type": "display_data"
    },
    {
     "data": {
      "text/plain": [
       "'S(10):'"
      ]
     },
     "metadata": {},
     "output_type": "display_data"
    },
    {
     "data": {
      "text/plain": [
       "array([[0.74862448, 0.08379184, 0.08379184, 0.08379184],\n",
       "       [0.08379184, 0.74862448, 0.08379184, 0.08379184],\n",
       "       [0.08379184, 0.08379184, 0.74862448, 0.08379184],\n",
       "       [0.08379184, 0.08379184, 0.08379184, 0.74862448]])"
      ]
     },
     "metadata": {},
     "output_type": "display_data"
    },
    {
     "data": {
      "text/plain": [
       "'S(30):'"
      ]
     },
     "metadata": {},
     "output_type": "display_data"
    },
    {
     "data": {
      "text/plain": [
       "array([[0.47039323, 0.17653559, 0.17653559, 0.17653559],\n",
       "       [0.17653559, 0.47039323, 0.17653559, 0.17653559],\n",
       "       [0.17653559, 0.17653559, 0.47039323, 0.17653559],\n",
       "       [0.17653559, 0.17653559, 0.17653559, 0.47039323]])"
      ]
     },
     "metadata": {},
     "output_type": "display_data"
    },
    {
     "data": {
      "text/plain": [
       "'S(100):'"
      ]
     },
     "metadata": {},
     "output_type": "display_data"
    },
    {
     "data": {
      "text/plain": [
       "array([[0.26265274, 0.24578242, 0.24578242, 0.24578242],\n",
       "       [0.24578242, 0.26265274, 0.24578242, 0.24578242],\n",
       "       [0.24578242, 0.24578242, 0.26265274, 0.24578242],\n",
       "       [0.24578242, 0.24578242, 0.24578242, 0.26265274]])"
      ]
     },
     "metadata": {},
     "output_type": "display_data"
    }
   ],
   "source": [
    "for k in [0,1,2,3,10,30,100]:\n",
    "    power = np.linalg.matrix_power(S1, k)\n",
    "    display(f\"S({k}):\")\n",
    "    display(power)"
   ]
  }
 ],
 "metadata": {
  "kernelspec": {
   "display_name": "venv",
   "language": "python",
   "name": "python3"
  },
  "language_info": {
   "codemirror_mode": {
    "name": "ipython",
    "version": 3
   },
   "file_extension": ".py",
   "mimetype": "text/x-python",
   "name": "python",
   "nbconvert_exporter": "python",
   "pygments_lexer": "ipython3",
   "version": "3.10.12"
  }
 },
 "nbformat": 4,
 "nbformat_minor": 2
}
