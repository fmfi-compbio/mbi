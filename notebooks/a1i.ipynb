{
  "cells": [
    {
      "cell_type": "markdown",
      "metadata": {
        "id": "TYEZgSU1-NXe"
      },
      "source": [
        "# Methods in Bioinformatics, Homework 1 for Computer Science Students, 2025/26\n",
        "\n",
        "## Introduction\n",
        "In this homework, your task is to implement and evaluate algorithms for comparing two genomes based on their sets of $k$-mers. Tasks 1 and 2 ask you to implement several techniques covered in [Tutorial 5](https://fmfi-compbio.github.io/mbi/notes/ci-aln2-en.html) for CS students. The remaining tasks ask you to observe the behavior of these techniques in terms of accuracy, running time and memory on real and simulated data.\n",
        "\n",
        "If you want to read more about the concepts from this homework, check these sources\n",
        "* Jaccard index: https://en.wikipedia.org/wiki/Jaccard_index, https://www.statology.org/jaccard-similarity/\n",
        "* Minimizers: https://homolog.us/blogs/bioinfo/2017/10/25/intro-minimizer/\n",
        "\n",
        "## Use of AI and other sources\n",
        "\n",
        "* As per [course rules](https://fmfi-compbio.github.io/mbi/Rules.html#academic-integrity) you are allowed to discuss the homework with other people in general terms, but all your code and texts should be **your own work**. In the bonus version of task 2.1 you are allowed to research the algorithm in existing sources as explained below.  In **tasks 1 and 2 do not use AI to generate your code, switch off AI assistant** in your working environment (e.g. in Google Colab, in the main menu Tools -> Settings -> AI assistence -> Hide generative AI features). In tasks 3-6 you may use AI to help with setting up appropriate plots and tables, but if you do, acknowledge such help in comments in your code and make sure that the code is correct. Your discussion should be written in your own words, do not generate it using AI.   \n",
        "\n",
        "\n",
        "## Technical requirements and recommendations\n",
        "\n",
        "* This notebook contains the task description, some useful helper functions, as well as some code to test your implementation in Tasks 1 and 2. Please do not modify the provided code and write your code in the indicated space. Run all cells, included those with our code.\n",
        "* In your code for tasks 1-2, use only libraries already imported in the provided code and functions provided by us, such as `canonical` and `kmer_hash`.\n",
        "* In tasks 3-6 you may use also other libraries. Measure all required quantities in the notebook and preferably also visualize them directly there. If you strongly prefer, you can create final visualizations in another system and submit this notebook as well as a separate pdf file with visualization and discussion.\n",
        "* Your notebook should be executable on Google Colab. If you use any libraries not available on Colab by default, install them using `pip install` commands included in the notebook (section Libraries for tasks 3-6). If you use a different environment to develop your code, test it in Colab before submitting.\n",
        "* To avoid running out of memory, we recommend deleting variables that are no longer needed using `del` and occasionally calling `gc.collect()` to run garbage collection and free unused memory.\n",
        "* Some computations may take a long time to run. Leave sufficient time for finish the assignment. If the computation takes too long, you may try to improve your implementation.\n",
        "\n",
        "\n",
        "## Submitting\n",
        "\n",
        "* Submit the notebook with your code as an ipynb file. All cells should be executed with output shown.\n",
        "* Tasks 3-6 ask you to make some measurements, summarize them in tables or plots and discuss your results. Include all these visualizations and discussion directly in this notebook.\n",
        "* Text parts of the homework can be written in English or Slovak. The individual plots and tables should be properly annotated (axis labels, legends and titles or captions)."
      ]
    },
    {
      "cell_type": "markdown",
      "metadata": {
        "id": "HI7yrUos_rmt"
      },
      "source": [
        "## Module imports (do not modify)\n",
        "\n",
        "Use only modules listed below in parts 1 and 2. The code below uses pip command to install the Biopython library. If you have this library installed, you can comment out the line starting `!pip`."
      ]
    },
    {
      "cell_type": "code",
      "execution_count": null,
      "metadata": {
        "colab": {
          "base_uri": "https://localhost:8080/"
        },
        "id": "ez0WRmTjyk1V",
        "outputId": "c1125a37-f09a-4708-b4f0-930bd28062bf"
      },
      "outputs": [],
      "source": [
        "# imports\n",
        "import io\n",
        "import os\n",
        "import re\n",
        "import gc\n",
        "import sys\n",
        "import random\n",
        "import hashlib #!!\n",
        "from sklearn.utils import murmurhash3_32\n",
        "import time\n",
        "# numba library can precompile and speed up your code\n",
        "from numba import njit\n",
        "\n",
        "# libraries potentially useful in parts 1 and 2\n",
        "import heapq\n",
        "import itertools\n",
        "from collections import deque\n",
        "from collections.abc import Callable\n",
        "\n",
        "# biopython library is used for parsing the input file\n",
        "# The line below installs it. You may comment out this line\n",
        "# if it is already installed in your environment.\n",
        "!pip install biopython \n",
        "from Bio import SeqIO"
      ]
    },
    {
      "cell_type": "markdown",
      "metadata": {
        "id": "-DQkQPcWJ5NH"
      },
      "source": [
        "## Function definitions (do not modify)\n",
        "\n",
        "We provide the following functions for you to use in your code:\n",
        "* Function `canonical` returns the *canonical* version of an input $k$-mer defined as follows. For a $k$-mer $w$, let $w’$ be its reverse complement (obtained by reversing the string and exchanging complementary bases A<->T, C<->G). The canonical $k$-mer $w$ is then the smaller of $w$ and $w’$ in the lexicographic (alphabetical) order. For example, 4-mer CACT has reverse complement AGTG, which happens to be lexicographically smaller than CACT, and thus it is its canonical version.\n",
        "* Function `full_kmer_set` gets a string consisting of letters A,C,G,T representing a single genome and integer `k` and returns a Python set of all canonical $k$-mers of the input string. Canonical $k$-mers help us to represent both strands of the DNA molecule (the genome and its reverse complement will produce the same set of canonical $k$-mers).\n",
        "* Function `kmer_hash` computes a hash value for a $k$-mer. Use it for minimizer computations.\n",
        "* Function `debug_hash` is a simple hash function which simply encodes a k-mer as a number. Use to debug your minimizer code."
      ]
    },
    {
      "cell_type": "code",
      "execution_count": 26,
      "metadata": {
        "colab": {
          "base_uri": "https://localhost:8080/"
        },
        "id": "jnBpsn09-Zu4",
        "outputId": "f45fc1b3-ffd6-4311-947e-079f5b0ebca8"
      },
      "outputs": [
        {
          "name": "stdout",
          "output_type": "stream",
          "text": [
            "['A->T', 'C->G', 'G->C', 'T->A']\n",
            "_reverse_complement('AGTG')='CACT'\n",
            "_reverse_complement('CACT')='AGTG'\n",
            "canonical('AGTG')='AGTG'\n",
            "canonical('CACT')='AGTG'\n",
            "list(full_kmer_set('CCAAGGTCCATC', k=3))=['ATC', 'AAG', 'AGG', 'ACC', 'GAC', 'CAA', 'CCA', 'GGA', 'ATG']\n",
            "kmer_hash('A' * 13)=1280048192, kmer_hash('ACTACTACTACTG')=-591269436 kmer_hash('T'*12 + 'A')=-1519362212\n",
            "debug_hash('AAA')=0, debug_hash('AAG')=2, debug_hash('CAA')=16, debug_hash('TTT')=63\n"
          ]
        }
      ],
      "source": [
        "@njit\n",
        "def c(x: str) -> str:\n",
        "  \"\"\"Returns complement of a single DNA base\"\"\"\n",
        "  if x == 'A':\n",
        "    return 'T'\n",
        "  elif x == 'T':\n",
        "    return 'A'\n",
        "  elif x == 'C':\n",
        "    return 'G'\n",
        "  elif x == 'G':\n",
        "    return 'C'\n",
        "  else:\n",
        "    return \"\"\n",
        "\n",
        "\n",
        "@njit\n",
        "def _reverse_complement(seq: str) -> str:\n",
        "  \"\"\"Returns reverse complement (opposite strand) of a DNA sequence\"\"\"\n",
        "  return \"\".join([c(seq[i]) for i in range(len(seq)-1, -1, -1)])\n",
        "\n",
        "\n",
        "@njit\n",
        "def canonical(kmer: str) -> str:\n",
        "  \"\"\"Returns a canonical k-mer for the input k-mer. \"\"\"\n",
        "  comp_kmer = _reverse_complement(kmer)\n",
        "  if kmer <= comp_kmer:\n",
        "    return kmer\n",
        "  else:\n",
        "    return comp_kmer\n",
        "\n",
        "\n",
        "@njit\n",
        "def full_kmer_set(sequence: str, k: int) -> set[str]:\n",
        "  \"\"\"Function gets a string consisting of letters A,C,G,T representing a single genome\n",
        "  and integer k and returns a Python set of all canonical k-mers of the input string.\"\"\"\n",
        "  result = set()\n",
        "  for start in range(len(sequence) - k + 1):\n",
        "    result.add(canonical(sequence[start:start+k]))\n",
        "  return result\n",
        "\n",
        "\n",
        "def kmer_hash(seq: str) -> int:\n",
        "  \"\"\"A hash function to be used for hashing k-mers in minimizers and MinHash\"\"\"\n",
        "  return murmurhash3_32(seq, seed=1)\n",
        "\n",
        "def debug_hash(seq: str) -> int:\n",
        "  \"\"\"A simple hash function which encodes DNA as a base-4 number\n",
        "  with A being digit 0, C 1, G 2, T 3. This is to be used for debugging minimizers\"\"\"\n",
        "  base2num = {'A':0, 'C':1, 'G':2, 'T':3}\n",
        "  result = 0\n",
        "  for base in seq:\n",
        "    result = result * 4 + base2num[base]\n",
        "  return result\n",
        "\n",
        "# testing\n",
        "print(f\"{[x + '->' + c(x) for x in 'ACGT']}\")\n",
        "print(f\"{_reverse_complement('AGTG')=}\")\n",
        "print(f\"{_reverse_complement('CACT')=}\")\n",
        "print(f\"{canonical('AGTG')=}\")\n",
        "print(f\"{canonical('CACT')=}\")\n",
        "print(f\"{list(full_kmer_set('CCAAGGTCCATC', k=3))=}\")\n",
        "print(f\"{kmer_hash('A' * 13)=}, {kmer_hash('ACTACTACTACTG')=} {kmer_hash('T'*12 + 'A')=}\")\n",
        "print(f\"{debug_hash('AAA')=}, {debug_hash('AAG')=}, {debug_hash('CAA')=}, {debug_hash('TTT')=}\")"
      ]
    },
    {
      "cell_type": "markdown",
      "metadata": {
        "id": "DjdbkV5eA4a6"
      },
      "source": [
        "## Downloading genomes (do not modify)\n",
        "\n",
        "This part downloads some real genomes as follows.\n",
        "\n",
        "* It uses `read_fasta` function to download a file from URL `http://compbio.fmph.uniba.sk/vyuka/mbi-data/du1/bacteria.fasta`. This file contains several bacterial genomes in the FASTA format. The function returns two lists stored in variables `real_genomes` and `real_genome_descriptions`.\n",
        "  * The first variable is a list of strings consisting of letters A,C,G,T. (Some of these genomes contain unknown bases denoted as N; these are for simplicity omitted.)\n",
        "  * The second variable is a list of strings of the same length containing a text description of the sequence and its identifier from the RefSeq database.\n",
        "* We will refer to these genomes by numbers $0,1,\\dots$ based on their index in the two lists.\n",
        "* When you run this cell for the first time, the sequences will be downloaded from the internet and saved to `bacteria.fasta` file. Subsequently, this file will be read instead.\n"
      ]
    },
    {
      "cell_type": "code",
      "execution_count": null,
      "metadata": {
        "colab": {
          "base_uri": "https://localhost:8080/"
        },
        "id": "dSKRcOB8Aakf",
        "outputId": "c0f9a0f2-b04b-4540-c721-91977d0a216a"
      },
      "outputs": [],
      "source": [
        "def read_fasta(url=None, filename=None):\n",
        "  \"\"\"Function reads sequences in a FASTA format and returns them as a list of strings consisting of letters A,C,G,T.\n",
        "  It also returns a list of descriptions of these sequences. If filename is given and it exists,\n",
        "  sequences are read from the file. Otherwise they are read from the URL and written to the file.\"\"\"\n",
        "\n",
        "  # open file or url\n",
        "  handle = None\n",
        "  output_handle = None\n",
        "  if filename is not None and os.path.isfile(filename) \\\n",
        "  and os.path.getsize(filename) > 0:\n",
        "    handle = open(filename, 'r')\n",
        "  elif url is not None:\n",
        "    from urllib.request import urlopen\n",
        "    handle = io.TextIOWrapper(urlopen(url), encoding='utf-8')\n",
        "    if filename is not None:\n",
        "      output_handle = open(filename, \"w\")\n",
        "\n",
        "  real_genomes, real_genome_descriptions = [], []\n",
        "  for gnum, genome in enumerate(SeqIO.parse(handle, \"fasta\")):\n",
        "    if output_handle is not None:\n",
        "      SeqIO.write(genome, output_handle, \"fasta\")\n",
        "    sequence = str(genome.seq).replace('N', '')\n",
        "    if not re.match(r'\\A[ACGT]+\\Z', sequence):\n",
        "      raise ValueError(f\"Bad genome characters in the input file\")\n",
        "    description = genome.description\n",
        "    real_genomes.append(sequence)\n",
        "    real_genome_descriptions.append(description)\n",
        "    print(f\"Parsed genome #{gnum}: {description[:70]}...\", file=sys.stderr)\n",
        "\n",
        "  if output_handle is not None:\n",
        "    output_handle.close()\n",
        "  handle.close()\n",
        "\n",
        "  return real_genomes, real_genome_descriptions\n",
        "\n",
        "\n",
        "start = time.time()\n",
        "url = \"http://compbio.fmph.uniba.sk/vyuka/mbi-data/du1/bacteria.fasta\"\n",
        "real_genomes, real_genome_descriptions = read_fasta(url=url, filename=\"bacteria.fasta\")\n",
        "if len(real_genomes) != 9:\n",
        "  raise Exception(\"Some problem with reading sequences, perhaps delete bacteria.fasta file\")\n",
        "gc.collect()\n",
        "end = time.time()\n",
        "print(f\"Downloading genomes took {end-start} seconds\")"
      ]
    },
    {
      "cell_type": "markdown",
      "metadata": {
        "id": "-wr0fquBJ5NJ"
      },
      "source": [
        "## Creating mutated genomes (do not modify)\n",
        "\n",
        "This part will create some artificially mutated versions of genome 0 downloaded in the previous section.\n",
        "* Function `mutate` gets a string consisting of letters A,C,G,T representing a single genome and a mutation probability $p$ (a real number between 0 and 1). For each base\n",
        "of the input string it mutates it with probability $p$ and leaves it as it was with probability $1-p$. If the base is mutated, it is replaced by a randomly chosen base from the remaining three.\n",
        "* We create artificially mutated versions of genome 0 with mutation probabilities $p$=0.01, 0.05, 0.1, 0.2, 0.3, 0.4. As a result you have 6 new genomes stored in list `mutated_genomes`. The corresponding values of $p$ are in list `mutation_probabilities`.\n",
        "* To make the results reproducible, we set random seed to 47. Do not change this value."
      ]
    },
    {
      "cell_type": "code",
      "execution_count": null,
      "metadata": {
        "colab": {
          "base_uri": "https://localhost:8080/"
        },
        "id": "9FISYT45Kme2",
        "outputId": "89c50b7b-0bb5-4e4d-ac79-e3a6e871fa31"
      },
      "outputs": [],
      "source": [
        "@njit\n",
        "def mutate(sequence: str, p: float) -> str:\n",
        "  \"\"\"Function gets a string consisting of letters A,C,G,T representing a single genome and a mutation probability p (a real number between 0 and 1).\n",
        "  For each base of the input string it will decide with probability p to mutate it or 1-p to leave it as it was.\n",
        "  If the base is mutated, it is replaced by a randomly chosen base from the remaining three.\"\"\"\n",
        "  others = {x: \"ACGT\".replace(x, \"\") for x in \"ACGT\"}\n",
        "  result = \"\".join([x if random.random() > p else others[x][random.randint(0, 2)] for x in sequence])\n",
        "  return result\n",
        "\n",
        "# testing function\n",
        "print(f\"{[mutate('AAAACCCCGGGGTTTT', p=0.25) for _ in range(5)]=}\")\n",
        "\n",
        "# creating needed variables\n",
        "mutation_probabilities = [0.01, 0.05, 0.1, 0.2, 0.3, 0.4]\n",
        "random.seed(47)\n",
        "mutated_genomes = [mutate(real_genomes[0], p) for p in mutation_probabilities]\n",
        "gc.collect()"
      ]
    },
    {
      "cell_type": "markdown",
      "metadata": {
        "id": "1pKbHdRD9_Eg"
      },
      "source": [
        "## Task 1: Jaccard similarity\n",
        "\n",
        "In this task, we write functions for comparing two DNA sequences based on the Jaccard similarity of their sets of canonical $k$-mers. More similar sequence typically have a higher Jaccard similarity (more on this in Task 4)."
      ]
    },
    {
      "cell_type": "markdown",
      "metadata": {
        "id": "oHRZ7vbvJ5NM"
      },
      "source": [
        "### Task 1.1: Implement function `jaccard`\n",
        "\n",
        "Implement function `jaccard` which gets two sets and computes their Jaccard similarity by considering the sizes of their intersection and union. You can assume that the union of the two sets is non-empty."
      ]
    },
    {
      "cell_type": "code",
      "execution_count": null,
      "metadata": {
        "id": "2QOquCBrL5wh"
      },
      "outputs": [],
      "source": [
        "def jaccard(first_set: set[str], second_set: set[str]) -> float:\n",
        "  # TODO: your code here\n",
        "  pass\n"
      ]
    },
    {
      "cell_type": "markdown",
      "metadata": {
        "id": "tWROAtn2J5NM"
      },
      "source": [
        "### Task 1.2: Implement function `kmer_jaccard`\n",
        "\n",
        "Implement function `kmer_jaccard` which gets one DNA sequence, a list of $n$ DNA sequences and a value of `k`, converts all sequences to k-mer sets using provided function `full_kmer_set` and computes a list of $n$ Jaccard similarities of the first sequence compared each of the sequences in the list. You can assume that all sequences have the length at least $k$."
      ]
    },
    {
      "cell_type": "code",
      "execution_count": null,
      "metadata": {
        "id": "090OIp4QJ5NN"
      },
      "outputs": [],
      "source": [
        "def kmer_jaccard(first_sequence: str, sequence_list: list[str], k: int) -> list[float]:\n",
        "  # TODO: your code here\n",
        "  pass"
      ]
    },
    {
      "cell_type": "markdown",
      "metadata": {
        "id": "YjzfP2l8J5NN"
      },
      "source": [
        "### Task 1.3: Test your code on small tests\n",
        "\n",
        "Run your function on the small debugging inputs below and check if the answers are correct. Do not modify the tests, but you can add more of them."
      ]
    },
    {
      "cell_type": "code",
      "execution_count": null,
      "metadata": {
        "colab": {
          "base_uri": "https://localhost:8080/"
        },
        "id": "v1V7J1GRJ5NN",
        "outputId": "1e83efde-219e-4452-8fe7-8ea2933b0996"
      },
      "outputs": [],
      "source": [
        "setA = {'abc'}\n",
        "setB = {'bb'}\n",
        "setAB = {'abc','bb'}\n",
        "setABC = {'abc', 'bb', 'cde'}\n",
        "print(f\"{jaccard(setA, setA)=} (should be {1.0})\")\n",
        "print(f\"{jaccard(setA, setB)=} (should be {0.0})\")\n",
        "print(f\"{jaccard(setA, setAB)=} (should be {1/2})\")\n",
        "print(f\"{jaccard(setA, setABC)=} (should be {1/3})\")\n",
        "print(f\"{jaccard(setAB, setA)=} (should be {1/2})\")\n",
        "print(f\"{jaccard(setAB, setABC)=} (should be {2/3})\")\n",
        "\n",
        "seq1 = \"AAACCC\"\n",
        "seq2 = \"GGGTTT\"  # reverse complement of seq1, identical set of canonical k-mers\n",
        "seq3 = \"AAAGTG\"\n",
        "seq4 = \"ACAC\"\n",
        "print(f\"{kmer_jaccard(seq1, [seq1, seq2, seq3, seq4], 3)=}\")\n",
        "print(f\"  results should be {[1.0, 1.0, 1/7, 0.0]}\")"
      ]
    },
    {
      "cell_type": "markdown",
      "metadata": {
        "id": "kgR4yy4S-CQB"
      },
      "source": [
        "## Task 2: Minimizers\n",
        "\n",
        "In this task we write an alternative way of comparing two sequences using Jaccard similarity of their sets of minimizers instead of all $k$-mers. The set of minimizers is potentially smaller, thus saving time and memory if many sets are compared to each other.\n"
      ]
    },
    {
      "cell_type": "markdown",
      "metadata": {
        "id": "zxG543DkJ5NO"
      },
      "source": [
        "### Task 2.1 Implement function `minimizer_set`\n",
        "\n",
        "Implement function `minimizer_set` which gets a string consisting of letters A,C,G,T, two parameters `k` and `s` and hash function `h`. For each sliding window of `s` consecutive `k`-mers, it computes the canonical versions of these $k$-mers, applies function `h` on each canonical $k$-mer, chooses the canonical $k$-mer with the smallest hash value and stores this $k$-mer in the set. You can assume that the length of the sequence is at least $k-s+1$.\n",
        "\n",
        "For example let $k=2$, $s=3$ and we use the `debug_hash` to find minimizers for sequence 'AAGGG'.  We first take first three $2$-mers 'AA', 'AG', 'GG'. Their canonical versions are 'AA', 'AG', 'CC'. Their hash values are  0, 2, and 5. The minimum is 0 corresponding to canonical $k$-mer 'AA'. The next sliding window has canonical $k$-mers 'AG', 'CC', 'CC' with hash values 2, 5, 5. Now canonical $k$-mer 'AG' is the minimizer. The resulting set will be therefore {'AA', 'AG'}.\n",
        "\n",
        "The running time of your function on a sequence of length $n$ should be at most $O(n(k+s))$ assuming that a hash function and canonical version of one $k$-mer can be computed in $O(k)$ time. For bonus points you can try to implement a more efficient version running in $O(n(k+\\log s))$ time or even $O(nk)$ time. You can try to find the $O(nk)$ time algorithm by searching in literature / on the internet, if you wish, but cite your source. You should understand the algorithm, implement it in your own code and explain it in your own words below.\n",
        "\n",
        "Data structures `heapq` or `deque` from the Python standard library may be useful in the bonus version (and are imported above). Note that `heapq` does not support removing arbitrary elements efficiently, but you can temporarily keep invalid elements in the heap and remove them in an amortized way."
      ]
    },
    {
      "cell_type": "code",
      "execution_count": null,
      "metadata": {
        "id": "yfVKMRSSP-k7"
      },
      "outputs": [],
      "source": [
        "def minimizer_set(sequence: str, k: int, s: int,\n",
        "                  h: Callable[[str], int]) -> set[str]:\n",
        "  if len(sequence) < k + s - 1 or k < 1 or s < 1:\n",
        "    raise ValueError(\"Sequence must have length at least k + s -1 for k>=1, s>=1.\")\n",
        "\n",
        "  # TODO: your code here\n",
        "  pass"
      ]
    },
    {
      "cell_type": "markdown",
      "metadata": {
        "id": "-f23QlXsuRj_"
      },
      "source": [
        "### Task 2.2 Algorithm and its running time\n",
        "\n",
        "Briefly explain the algorithm used by your function above and what is its running time in terms of $n$, $k$ and $s$. Write your explanation directly here."
      ]
    },
    {
      "cell_type": "markdown",
      "metadata": {},
      "source": [
        "**TODO:** your text here"
      ]
    },
    {
      "cell_type": "markdown",
      "metadata": {
        "id": "7ucxg3WFqGnr"
      },
      "source": [
        "### Task 2.3: Implement function `minimizer_jaccard`\n",
        "\n",
        "Implement function `minimizer_jaccard` which works similarly to `kmer_jaccard` in task 1.2, but runs `minimizer_set` instead of `full_kmer_set`. For this purpose it also gets value `s` and hash function `h` as parameters."
      ]
    },
    {
      "cell_type": "code",
      "execution_count": null,
      "metadata": {
        "id": "zLFGsgloqlmh"
      },
      "outputs": [],
      "source": [
        "def minimizer_jaccard(first_sequence: str, sequence_list: list[str],\n",
        "                      k: int, s: int, h: Callable[[str], int]) -> list[float]:\n",
        "  # TODO: your code here\n",
        "  pass"
      ]
    },
    {
      "cell_type": "markdown",
      "metadata": {
        "id": "HQnqQ_7GJ5NT"
      },
      "source": [
        "### Task 2.4: Test your code on small tests\n",
        "\n",
        "Run your function on small debuging lists below and check if the answer is correct. Do not modify the tests, but you can add more of them."
      ]
    },
    {
      "cell_type": "code",
      "execution_count": null,
      "metadata": {
        "colab": {
          "base_uri": "https://localhost:8080/"
        },
        "id": "ujJEW8K1J5NT",
        "outputId": "b9d7d65a-5e4e-4ac7-b0cb-5775bfddcb01"
      },
      "outputs": [],
      "source": [
        "print(f\"{minimizer_set('AAACGCAAA', 3, 3, debug_hash)=}\")\n",
        "print(f\"Result should be {set(['AAA', 'AAC', 'ACG', 'CAA'])}\")\n",
        "print()\n",
        "print(f\"{minimizer_set('AAACGCAAAGGGGG', 2, 4, debug_hash)=}\")\n",
        "print(f\"Result should be {set(['AA', 'AC', 'AG', 'CC'])}\")\n",
        "print(\"  note that canonical string of GG is CC\")\n",
        "print()\n",
        "\n",
        "seq1 = \"AAACCC\"\n",
        "seq2 = \"GGGTTT\"  # reverse complement of seq1, identical set of canonical k-mers\n",
        "seq3 = \"AAAGTG\"\n",
        "seq4 = \"ACAC\"\n",
        "print(f\"{minimizer_jaccard(seq1, [seq1, seq2, seq3, seq4], 2, 2, debug_hash)=}\")\n",
        "print(f\"  results should be {[1.0, 1.0, 2/3, 1/3]}\")"
      ]
    },
    {
      "cell_type": "markdown",
      "metadata": {
        "id": "Yk5InZLDs14O"
      },
      "source": [
        "## Libraries for tasks 3-6\n",
        "\n",
        "The code below loads several libraries that are often used for data processing and visualization. Feel free to use them in parts 3-6. You can also import additional libraries if needed."
      ]
    },
    {
      "cell_type": "code",
      "execution_count": null,
      "metadata": {
        "id": "vucNdFVttJnk"
      },
      "outputs": [],
      "source": [
        "import numpy as np\n",
        "import pandas as pd\n",
        "import matplotlib.pyplot as plt\n",
        "import seaborn as sns\n",
        "\n",
        "# TODO: add more libraries if needed"
      ]
    },
    {
      "cell_type": "markdown",
      "metadata": {},
      "source": [
        "## Task 3: Jaccard index on real genomes\n",
        "\n",
        "* Compare genome 0 to all real genomes using Jaccard similarity on a full set of $k$-mers for $k$=13. Print a table listing these similarities as well as genome descriptions.\n",
        "* Discuss the results. Which other genomes are most similar to genome 0? Can you explain this by looking at their descriptions? "
      ]
    },
    {
      "cell_type": "code",
      "execution_count": null,
      "metadata": {},
      "outputs": [],
      "source": [
        "# TODO place the code for computing and printing the distances here"
      ]
    },
    {
      "cell_type": "markdown",
      "metadata": {},
      "source": [
        "**TODO:** Place your discussion here."
      ]
    },
    {
      "cell_type": "markdown",
      "metadata": {
        "id": "dlOmS3RG-Ce0"
      },
      "source": [
        "## Task 4: Accuracy of *k*-mer Jaccard index\n",
        "\n",
        "In this task we want to evaluate if Jaccard similarity on a full set of $k$-mers is a suitable measure of sequence similarity. To this end, we will use randomly mutated genomes for different values of mutation probability $p$. We will consider 1-$p$ as the true genome similarity (the percentage of bases that were conserved) and see if the Jaccard similarity is in some way related to this value.\n",
        "\n"
      ]
    },
    {
      "cell_type": "markdown",
      "metadata": {
        "id": "RkuhL_hIy1FA"
      },
      "source": [
        "### Task 4.1. Formula for $k$-mer conservation\n",
        "\n",
        "Consider two sequences where the second one was created from the first by randomly mutation each base with probability $p$ and leaving it the same with probability $(1-p)$ (as in function `mutate` above). Let $f(p, k)$ be the probability that a $k$-mer at a particular fixed position in these genomes does not contain any mutations (all $k$ nucleotides were left the same).\n",
        "\n",
        "Write a mathematical formula for $f(p, k)$ and explain it.\n"
      ]
    },
    {
      "cell_type": "markdown",
      "metadata": {
        "id": "QaqOaHdc0Adc"
      },
      "source": [
        "### Task 4.2 Compute and show tables\n",
        "\n",
        "Compute a table containing values of $f(p,k)$ for  $p$ from `mutation_probabilities` list and values of $k$=9,13,17. Also compute Jaccard similarities\n",
        "between real genome 0 and all 6 mutated genomes for the same list of values of $k$. Print both tables in some easy to read form.\n"
      ]
    },
    {
      "cell_type": "code",
      "execution_count": null,
      "metadata": {
        "id": "W17LW83B1EAz"
      },
      "outputs": [],
      "source": [
        "# TODO: your code here"
      ]
    },
    {
      "cell_type": "markdown",
      "metadata": {
        "id": "uPMEGUzfJ5NU"
      },
      "source": [
        "### Task 4.3 Plot(s)\n",
        "\n",
        "Create plots showing how values in both tables from Task 4.2 change with $1-p$. For example you can create a line plot showing $1-p$ on the x axis (true genome similarity) and the Jaccard similarity (genome similarity estimate) on the y axis. Use one line for each value of $k$; the line connects values for mutated genomes for increasing value of $1-p$. Similarly you can plot values $f(p,k)$ instead od Jaccard. You can also add other plots to support your discussion in Task 4.4."
      ]
    },
    {
      "cell_type": "code",
      "execution_count": null,
      "metadata": {
        "id": "Fz4oLGC52On5"
      },
      "outputs": [],
      "source": [
        "# TODO: place the code for visualization here"
      ]
    },
    {
      "cell_type": "markdown",
      "metadata": {},
      "source": [
        "### Task 4.4 Discussion\n",
        "\n",
        "1. Describe how we could estimate $1-p$ from the Jaccard similarity for values of $k$ investigated here using the values you measured or some other calculation you can make.\n",
        "2. Are some values of $k$ unsuitable (or less suitable) for this purpose? Why is that? \n",
        "3. In task 3, genome 0 and one other real genome had Jaccard similarity 0.64 for $k=13$. Estimate the percentage of mutated bases between these two real genomes based on this Jaccard similarity."
      ]
    },
    {
      "cell_type": "markdown",
      "metadata": {
        "id": "2dH4YuQV3Hbv"
      },
      "source": [
        "**TODO:** Place your discussion here."
      ]
    },
    {
      "cell_type": "markdown",
      "metadata": {
        "id": "BZBKwNPL-CuU"
      },
      "source": [
        "## Task 5: Accuracy of minimizers\n",
        "\n",
        "Instead of computing Jaccard similarity for the full set of $k$-mers, we can also run it on the set of minimizers. This can be understood as an estimate of the Jaccard similarity on the full set of $k$-mers using a smaller memory. In this task we will compare the accuracy of this estimate to the Jaccard similarity computed for the full set of $k$-mers in Task 4.2, which we consider here as \"the correct answer\".\n",
        "\n",
        "1. Compute the similarity of genome 0 to all mutated genomes using $k$=13 and values of $s$=2,5,10 for minimizers. For hash function use `kmer_hash`. Print a table of these values in an easy to read form.\n",
        "2. Compute the difference between the Jaccard similarity values for $k$=13 from Task 4.2 (using all kmers) and the values from Task 5.1 and print a table of these differences in an easy to read form.\n",
        "3. Optionally visualize the values using appropriate plots.\n",
        "4. Discuss your findings. What trends do you see with increasing $s$? What causes these trends? (Explain them based on your understanding of the used algorithms.)"
      ]
    },
    {
      "cell_type": "code",
      "execution_count": null,
      "metadata": {
        "id": "2T4HDJF12M_S"
      },
      "outputs": [],
      "source": [
        "# TODO: you code for computing the values and optionally visualizing them\n",
        "# you can split the code into multiple cells if you wish"
      ]
    },
    {
      "cell_type": "markdown",
      "metadata": {
        "id": "Oon1evGV5H14"
      },
      "source": [
        "**TODO** Write your discussion here."
      ]
    },
    {
      "cell_type": "markdown",
      "metadata": {
        "id": "xle1Niub-C1o"
      },
      "source": [
        "## Task 6: Running time and memory\n",
        "\n",
        "1. Measure the running time of computing the $k$-mer sets on genome 0 using functions `full_kmer_set` and `minimizer_set` for parameters $k$ and $s$ as in Task 5 using `kmer_hash` hash function. You can measure time simply using `time.time()` function before and after computation as is done in the downloading genomes section above. This simply measures the wall clock time, not CPU usage. You can also use alternative ways of measuring time.\n",
        "2. As a proxy for memory consumption, report the size of the sets produced in Task 6.1.\n",
        "3. List the times and set sizes as easy-to-read tables or appropriate plots.\n",
        "4. Discuss your findings. How do the parameter values and the choice of algorithm influence the running time and memory? Can you make some recommendations on which method to choose considering all aspects (accuracy, running time and memory)?"
      ]
    },
    {
      "cell_type": "code",
      "execution_count": null,
      "metadata": {
        "id": "IrhBeG1c6fQ4"
      },
      "outputs": [],
      "source": [
        "# TODO: you code for measuring time here, optionally also your visualizations\n",
        "# you can split the code into multiple cells if you wish"
      ]
    },
    {
      "cell_type": "markdown",
      "metadata": {
        "id": "vcVg7ITQ64ev"
      },
      "source": [
        "**TODO** Write your discussion here."
      ]
    },
    {
      "cell_type": "markdown",
      "metadata": {},
      "source": [
        "## Some additional tests\n",
        "\n",
        "Please run these tests and do not modify them. They may help you to find errors in your code."
      ]
    },
    {
      "cell_type": "code",
      "execution_count": null,
      "metadata": {},
      "outputs": [],
      "source": [
        "def _check(name, cond, detail=\"\"):\n",
        "    \"\"\"Helper to print [OK]/[FAIL] results with extra info.\"\"\"\n",
        "    if cond:\n",
        "        print(f\"[OK]   {name}\")\n",
        "    else:\n",
        "        print(f\"[FAIL] {name} x {detail}\")\n",
        "\n",
        "# ---------------------------------------------------------------\n",
        "# ## Task 1.1 – jaccard\n",
        "# ---------------------------------------------------------------\n",
        "A, B = {\"x\",\"y\",\"z\"}, {\"y\",\"z\",\"w\"}\n",
        "J = jaccard(A,B)\n",
        "_check(\"1.1 Jaccard symmetry\",\n",
        "       jaccard(A,B) == jaccard(B,A),\n",
        "       f\"Got {jaccard(A,B)} vs {jaccard(B,A)}\")\n",
        "\n",
        "_check(\"1.1 Jaccard identical sets = 1\",\n",
        "       jaccard(A,A) == 1.0,\n",
        "       f\"Got {jaccard(A,A)} expected 1.0\")\n",
        "\n",
        "_check(\"1.1 Jaccard disjoint sets = 0\",\n",
        "       jaccard({'a'},{'b'}) == 0.0,\n",
        "       f\"Got {jaccard({'a'},{'b'})} expected 0.0\")\n",
        "\n",
        "_check(\"1.1 Jaccard range [0,1]\",\n",
        "       0 <= J <= 1,\n",
        "       f\"Got {J}\")\n",
        "\n",
        "# ---------------------------------------------------------------\n",
        "# ## Task 1.2 – kmer_jaccard\n",
        "# ---------------------------------------------------------------\n",
        "s1 = \"AAACCCGGGTTTAAACCC\"\n",
        "s2 = \"AAACCCGGGTTTAAAGGG\"\n",
        "k  = 5\n",
        "J_expected = jaccard(full_kmer_set(s1,k), full_kmer_set(s2,k))\n",
        "J_got = kmer_jaccard(s1,[s2],k)[0]\n",
        "_check(\"1.2 kmer_jaccard matches direct Jaccard\",\n",
        "       abs(J_expected - J_got) < 1e-3,\n",
        "       f\"Expected {J_expected}, got {J_got}\")\n",
        "\n",
        "# extra bound tests\n",
        "setA = {'abc'}; setB = {'bb'}; setAB = {'abc','bb'}\n",
        "_check(\"1.2 Jaccard simple ½\",\n",
        "       jaccard(setA,setAB) == 0.5,\n",
        "       f\"Got {jaccard(setA,setAB)} expected 0.5\")\n",
        "\n",
        "_check(\"1.2 Jaccard simple ⅓\",\n",
        "       abs(jaccard(setA,{'abc','bb','cde'}) - 1/3) < 1e-3,\n",
        "       f\"Got {jaccard(setA,{'abc','bb','cde'})} expected ~0.3333\")\n",
        "\n",
        "# ---------------------------------------------------------------\n",
        "# ## Task 1.3 – small example consistency\n",
        "# ---------------------------------------------------------------\n",
        "seq1, seq2, seq3, seq4 = \"AAACCC\",\"GGGTTT\",\"AAAGTG\",\"ACAC\"\n",
        "expected = [1.0,1.0,1/7,0.0]\n",
        "got = kmer_jaccard(seq1,[seq1,seq2,seq3,seq4],3)\n",
        "_check(\"1.3 kmer_jaccard example output\",\n",
        "       all(abs(a-b)<1e-3 for a,b in zip(got,expected)),\n",
        "       f\"Expected {expected}, got {got}\")\n",
        "\n",
        "# ---------------------------------------------------------------\n",
        "# ## Task 2.1 – minimizer_set\n",
        "# ---------------------------------------------------------------\n",
        "exp1 = {'AAA','AAC','ACG','CAA'}\n",
        "got1 = minimizer_set('AAACGCAAA',3,3,debug_hash)\n",
        "_check(\"2.1 minimizer_set example #1\",\n",
        "       got1 == exp1,\n",
        "       f\"Expected {exp1}, got {got1}\")\n",
        "\n",
        "exp2 = {'AA','AC','AG','CC'}\n",
        "got2 = minimizer_set('AAACGCAAAGGGGG',2,4,debug_hash)\n",
        "_check(\"2.1 minimizer_set example #2\",\n",
        "       got2 == exp2,\n",
        "       f\"Expected {exp2}, got {got2}\")\n",
        "\n",
        "# deterministic output check\n",
        "s = \"AAGGGTTTCCCAAAGGGTTT\"\n",
        "m1 = minimizer_set(s,3,4,kmer_hash)\n",
        "m2 = minimizer_set(s,3,4,kmer_hash)\n",
        "_check(\"2.1 deterministic output\",\n",
        "       m1 == m2,\n",
        "       f\"Run1 size={len(m1)}, Run2 size={len(m2)}\")\n",
        "\n",
        "# reverse-complement invariance\n",
        "rcs = _reverse_complement(s)\n",
        "m_rc = minimizer_set(rcs,3,4,kmer_hash)\n",
        "_check(\"2.1 RC invariance (k=3,s=4)\",\n",
        "       m1 == m_rc,\n",
        "       f\"Set differences: {m1.symmetric_difference(m_rc)}\")\n",
        "\n",
        "# size monotonicity sanity\n",
        "base = \"ACGTACGTACGTACGTACGTACGTACGTACGT\"\n",
        "for k in [7,9]:\n",
        "    sizes = [len(minimizer_set(base,k,s,kmer_hash)) for s in range(2,7)]\n",
        "    ok = all(sizes[i] >= sizes[i+1] for i in range(len(sizes)-1))\n",
        "    _check(f\"2.1 size non-increasing with s (k={k})\", ok, f\"Observed sizes={sizes}\")\n",
        "\n",
        "# ---------------------------------------------------------------\n",
        "# ## Task 2.3 – minimizer_jaccard\n",
        "# ---------------------------------------------------------------\n",
        "seq1, seq2, seq3, seq4 = \"AAACCC\",\"GGGTTT\",\"AAAGTG\",\"ACAC\"\n",
        "expected = [1.0,1.0,2/3,1/3]\n",
        "got = minimizer_jaccard(seq1,[seq1,seq2,seq3,seq4],2,2,debug_hash)\n",
        "_check(\"2.3 minimizer_jaccard example output\",\n",
        "       all(abs(a-b)<1e-3 for a,b in zip(got,expected)),\n",
        "       f\"Expected {expected}, got {got}\")\n",
        "\n",
        "# consistency with direct set Jaccard\n",
        "a = \"AAACCCGGGTTTAAACCCGGG\"\n",
        "b = \"AAACCCGGGTTTAAACCCGGA\"\n",
        "k,s=5,3\n",
        "J1 = minimizer_jaccard(a,[b],k,s,kmer_hash)[0]\n",
        "Aset = minimizer_set(a,k,s,kmer_hash)\n",
        "Bset = minimizer_set(b,k,s,kmer_hash)\n",
        "J2 = jaccard(Aset,Bset)\n",
        "_check(\"2.3 minimizer_jaccard equals J(set)\",\n",
        "       abs(J1 - J2) < 1e-3,\n",
        "       f\"Expected {J2}, got {J1}\")\n",
        "\n",
        "# ---------------------------------------------------------------\n",
        "# ## Task 2.4 – consistency on real data subset\n",
        "# ---------------------------------------------------------------\n",
        "g0 = real_genomes[0][:20000]\n",
        "g1 = real_genomes[1][:20000]\n",
        "for k in [9,13]:\n",
        "    J_full = jaccard(full_kmer_set(g0,k), full_kmer_set(g1,k))\n",
        "    for s in [2,5]:\n",
        "        J_min = minimizer_jaccard(g0,[g1],k,s,kmer_hash)[0]\n",
        "        _check(f\"2.4 minimizer J ≤ full J (k={k},s={s})\",\n",
        "               J_min <= J_full + 1e-9,\n",
        "               f\"Full={J_full:.4f}, Minimizer={J_min:.4f}\")\n",
        "\n",
        "# ---------------------------------------------------------------\n",
        "# ## Performance sanity\n",
        "# ---------------------------------------------------------------\n",
        "sub = real_genomes[0][:100000]\n",
        "k = 13\n",
        "t0 = time.time(); S_full = full_kmer_set(sub,k); t1 = time.time()\n",
        "S_min2 = minimizer_set(sub,k,2,kmer_hash); t2 = time.time()\n",
        "S_min5 = minimizer_set(sub,k,5,kmer_hash); t3 = time.time()\n",
        "\n",
        "print(f\"\\nPerformance sample (100 kbp, k=13)\")\n",
        "print(f\" full_kmer_set : {len(S_full):>8} elements in {t1-t0:.2f}s\")\n",
        "print(f\" minimizer s=2 : {len(S_min2):>8} elements in {t2-t1:.2f}s\")\n",
        "print(f\" minimizer s=5 : {len(S_min5):>8} elements in {t3-t2:.2f}s\")\n",
        "\n",
        "_check(\"Performance: size order s=5 ≤ s=2 ≤ full\",\n",
        "       len(S_min5) <= len(S_min2) <= len(S_full),\n",
        "       f\"Sizes: full={len(S_full)}, s=2={len(S_min2)}, s=5={len(S_min5)}\")\n",
        "\n",
        "print(\"\\n All tests completed successfully.\")\n",
        "# ===============================================================\n"
      ]
    }
  ],
  "metadata": {
    "colab": {
      "provenance": [],
      "toc_visible": true
    },
    "kernelspec": {
      "display_name": "venv",
      "language": "python",
      "name": "python3"
    },
    "language_info": {
      "codemirror_mode": {
        "name": "ipython",
        "version": 3
      },
      "file_extension": ".py",
      "mimetype": "text/x-python",
      "name": "python",
      "nbconvert_exporter": "python",
      "pygments_lexer": "ipython3",
      "version": "3.10.12"
    }
  },
  "nbformat": 4,
  "nbformat_minor": 0
}
